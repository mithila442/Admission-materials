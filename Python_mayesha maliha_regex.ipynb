{
 "cells": [
  {
   "cell_type": "code",
   "execution_count": 3,
   "id": "2a44c0db",
   "metadata": {},
   "outputs": [],
   "source": [
    "import pandas as pd"
   ]
  },
  {
   "cell_type": "code",
   "execution_count": 4,
   "id": "106221b9",
   "metadata": {},
   "outputs": [],
   "source": [
    "import re"
   ]
  },
  {
   "cell_type": "code",
   "execution_count": 5,
   "id": "2525c93c",
   "metadata": {},
   "outputs": [
    {
     "name": "stdout",
     "output_type": "stream",
     "text": [
      "Enter file:mbox-short.txt\n",
      "['From stephen.marquard@uct.ac.za Sat Jan  5 09:14:16 2008', 'From louis@media.berkeley.edu Fri Jan  4 18:10:48 2008', 'From zqian@umich.edu Fri Jan  4 16:10:39 2008', 'From rjlowe@iupui.edu Fri Jan  4 15:46:24 2008', 'From zqian@umich.edu Fri Jan  4 15:03:18 2008', 'From rjlowe@iupui.edu Fri Jan  4 14:50:18 2008', 'From cwen@iupui.edu Fri Jan  4 11:37:30 2008', 'From cwen@iupui.edu Fri Jan  4 11:35:08 2008', 'From gsilver@umich.edu Fri Jan  4 11:12:37 2008', 'From gsilver@umich.edu Fri Jan  4 11:11:52 2008', 'From zqian@umich.edu Fri Jan  4 11:11:03 2008', 'From gsilver@umich.edu Fri Jan  4 11:10:22 2008', 'From wagnermr@iupui.edu Fri Jan  4 10:38:42 2008', 'From zqian@umich.edu Fri Jan  4 10:17:43 2008', 'From antranig@caret.cam.ac.uk Fri Jan  4 10:04:14 2008', 'From gopal.ramasammycook@gmail.com Fri Jan  4 09:05:31 2008', 'From david.horwitz@uct.ac.za Fri Jan  4 07:02:32 2008', 'From david.horwitz@uct.ac.za Fri Jan  4 06:08:27 2008', 'From david.horwitz@uct.ac.za Fri Jan  4 04:49:08 2008', 'From david.horwitz@uct.ac.za Fri Jan  4 04:33:44 2008', 'From stephen.marquard@uct.ac.za Fri Jan  4 04:07:34 2008', 'From louis@media.berkeley.edu Thu Jan  3 19:51:21 2008', 'From louis@media.berkeley.edu Thu Jan  3 17:18:23 2008', 'From ray@media.berkeley.edu Thu Jan  3 17:07:00 2008', 'From cwen@iupui.edu Thu Jan  3 16:34:40 2008', 'From cwen@iupui.edu Thu Jan  3 16:29:07 2008', 'From cwen@iupui.edu Thu Jan  3 16:23:48 2008']\n",
      "The time is 09 hours, 14 minutes and 16 seconds.\n",
      "The time is 18 hours, 10 minutes and 48 seconds.\n",
      "The time is 16 hours, 10 minutes and 39 seconds.\n",
      "The time is 15 hours, 46 minutes and 24 seconds.\n",
      "The time is 15 hours, 03 minutes and 18 seconds.\n",
      "The time is 14 hours, 50 minutes and 18 seconds.\n",
      "The time is 11 hours, 37 minutes and 30 seconds.\n",
      "The time is 11 hours, 35 minutes and 08 seconds.\n",
      "The time is 11 hours, 12 minutes and 37 seconds.\n",
      "The time is 11 hours, 11 minutes and 52 seconds.\n",
      "The time is 11 hours, 11 minutes and 03 seconds.\n",
      "The time is 11 hours, 10 minutes and 22 seconds.\n",
      "The time is 10 hours, 38 minutes and 42 seconds.\n",
      "The time is 10 hours, 17 minutes and 43 seconds.\n",
      "The time is 10 hours, 04 minutes and 14 seconds.\n",
      "The time is 09 hours, 05 minutes and 31 seconds.\n",
      "The time is 07 hours, 02 minutes and 32 seconds.\n",
      "The time is 06 hours, 08 minutes and 27 seconds.\n",
      "The time is 04 hours, 49 minutes and 08 seconds.\n",
      "The time is 04 hours, 33 minutes and 44 seconds.\n",
      "The time is 04 hours, 07 minutes and 34 seconds.\n",
      "The time is 19 hours, 51 minutes and 21 seconds.\n",
      "The time is 17 hours, 18 minutes and 23 seconds.\n",
      "The time is 17 hours, 07 minutes and 00 seconds.\n",
      "The time is 16 hours, 34 minutes and 40 seconds.\n",
      "The time is 16 hours, 29 minutes and 07 seconds.\n",
      "The time is 16 hours, 23 minutes and 48 seconds.\n"
     ]
    }
   ],
   "source": [
    "name = input(\"Enter file:\")  #enter file name\n",
    "if len(name) < 1: #default file name if no input\n",
    "    name = \"mbox-short.txt\" \n",
    "handle = open(name, \"r\") #open in read mode\n",
    "data = handle.read()  #read handl\n",
    "lst=re.findall('From\\s.+[@].+\\s.+\\s.+\\s+\\d{1}\\s\\d{2}\\:\\d{2}\\:\\d{2}\\s\\d{4}', data) #Write a RegEx pattern for all lines os same format (ex:From louis@media.berkeley.edu Fri Jan  4 18:10:48 2008) and accumulates them in lst\n",
    "print(lst) #prints lst\n",
    "for el in lst: #every element in lst\n",
    "    wrd=re.split(\"\\s+\",el)  #splits every element by one or more white space\n",
    "    hr=wrd[5][:2] #finds the time and extracts the hour by index\n",
    "    mint=wrd[5][3:5] #finds the time and extracts the minute by index\n",
    "    sec=wrd[5][6:] #finds the time and extracts the second by index\n",
    "    print(\"The time is {} hours, {} minutes and {} seconds.\".format(hr,mint,sec)) #prints them in each sentence"
   ]
  },
  {
   "cell_type": "code",
   "execution_count": null,
   "id": "015c6122",
   "metadata": {},
   "outputs": [],
   "source": []
  }
 ],
 "metadata": {
  "kernelspec": {
   "display_name": "Python 3 (ipykernel)",
   "language": "python",
   "name": "python3"
  },
  "language_info": {
   "codemirror_mode": {
    "name": "ipython",
    "version": 3
   },
   "file_extension": ".py",
   "mimetype": "text/x-python",
   "name": "python",
   "nbconvert_exporter": "python",
   "pygments_lexer": "ipython3",
   "version": "3.11.0"
  }
 },
 "nbformat": 4,
 "nbformat_minor": 5
}
